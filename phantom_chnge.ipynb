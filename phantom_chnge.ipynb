{
 "cells": [
  {
   "attachments": {},
   "cell_type": "markdown",
   "metadata": {},
   "source": [
    "## phantom change"
   ]
  },
  {
   "cell_type": "code",
   "execution_count": null,
   "metadata": {},
   "outputs": [
    {
     "ename": "",
     "evalue": "",
     "output_type": "error",
     "traceback": [
      "\u001b[1;31mRunning cells with '/bin/python3' requires ipykernel package.\n",
      "\u001b[1;31mRun the following command to install 'ipykernel' into the Python environment. \n",
      "\u001b[1;31mCommand: '/bin/python3 -m pip install ipykernel -U --user --force-reinstall'"
     ]
    }
   ],
   "source": [
    "import h5py\n",
    "import io\n",
    "import glob\n",
    "import os\n",
    "import pandas as pd\n",
    "import numpy as np\n",
    "from PIL import Image\n",
    "import copy\n",
    "import cv2\n",
    "import math\n"
   ]
  },
  {
   "cell_type": "code",
   "execution_count": null,
   "metadata": {},
   "outputs": [],
   "source": [
    "# input file path\n",
    "h5_path = \"./phantom.h5\"\n",
    "h5_path_origin = \"./phantom_origin.h5\""
   ]
  },
  {
   "cell_type": "code",
   "execution_count": null,
   "metadata": {},
   "outputs": [],
   "source": [
    "with h5py.File(h5_path, \"a\") as f:\n",
    "    # check directory structure\n",
    "    print(\"Lists of data names : \", f.keys())\n",
    "\n",
    "    # copy velocity data\n",
    "    u = f[\"u\"]              # x velocity\n",
    "    v = f[\"v\"]              # y velocity\n",
    "    pd = f[\"pd\"]            # proton distribution\n",
    "    t1 = f[\"t1\"]            # t1\n",
    "    t2 = f[\"t2\"]            # t2\n",
    "\n",
    "    # change proton distribution\n",
    "    # preparation\n",
    "    nx = 128\n",
    "    ny = 128\n",
    "    nz = 1\n",
    "    pd_0 = np.zeros((128*16, 128*16))\n",
    "    pitch = 8.0\n",
    "    x = np.zeros(40)\n",
    "    y = np.zeros(40)\n",
    "    \n",
    "    # calculation\n",
    "    for i in range(3):\n",
    "        y[i] =  64*16+2e0*pitch*16*(i-1)\n",
    "        x[i] = 64*16-pitch*16*math.sqrt(3e0)*2e0\n",
    "    for i in range(3, 7, 1):\n",
    "        y[i] = 64*16+2*pitch*16*(i-4.5)\n",
    "        x[i] = 64*16-pitch*16*math.sqrt(3)*1\n",
    "    for i in range(7, 12, 1):\n",
    "        y[i] = 64*16+2*pitch*16*(i-9)\n",
    "        x[i] = 64*16-pitch*16*math.sqrt(3)*0\n",
    "    for i in range(12, 16, 1):\n",
    "        y[i] = 64*16+2*pitch*16*(i-13.5)\n",
    "        x[i] = 64*16-pitch*16*math.sqrt(3)*(-1)\n",
    "    for i in range(16, 19, 1):\n",
    "        y[i] = 64*16 + 2e0*pitch*16*(i-17)\n",
    "        x[i] = 64*16 - pitch*16*math.sqrt(3e0)*(-2e0)\n",
    "    \n",
    "    r1 = pitch*16\n",
    "    r2 = r1 - 3e0*16\n",
    "    r1sq = r1*r1\n",
    "    r2sq = r2*r2\n",
    "    \n",
    "    for j in range(ny*16):\n",
    "        for i in range(nx*16):\n",
    "            if (i-1024)*(i-1024)+(j-1024)*(j-1024) < 50*16*50*16:\n",
    "                pd_0[j, i] = 100\n",
    "            else:\n",
    "                pd_0[j, i] = 50\n",
    "                \n",
    "    for j in range(ny*16):\n",
    "        for i in range(nx*16):\n",
    "            for k in range(19):\n",
    "                a = (j-x[k])*(j-x[k])+(i-y[k])*(i-y[k])\n",
    "                if a <= r1sq and r2sq<=a:\n",
    "                    pd_0[j, i] = 50\n",
    "                    \n",
    "    for j in range(ny):\n",
    "        for i in range(nx):\n",
    "            s0 = 0\n",
    "            for k in range(16):\n",
    "                for n in range(16):\n",
    "                    s0 += pd_0[16*j+k, 16*i+n]\n",
    "            pd[j, i] = s0 / 256\n",
    "    \n",
    "            \n"
   ]
  },
  {
   "cell_type": "code",
   "execution_count": null,
   "metadata": {},
   "outputs": [],
   "source": []
  }
 ],
 "metadata": {
  "kernelspec": {
   "display_name": "Python 3",
   "language": "python",
   "name": "python3"
  },
  "language_info": {
   "name": "python",
   "version": "3.8.10 (default, Jun 22 2022, 20:18:18) \n[GCC 9.4.0]"
  },
  "orig_nbformat": 4,
  "vscode": {
   "interpreter": {
    "hash": "916dbcbb3f70747c44a77c7bcd40155683ae19c65e1c03b4aa3499c5328201f1"
   }
  }
 },
 "nbformat": 4,
 "nbformat_minor": 2
}
