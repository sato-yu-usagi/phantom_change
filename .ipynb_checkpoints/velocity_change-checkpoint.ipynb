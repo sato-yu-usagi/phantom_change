{
 "cells": [
  {
   "cell_type": "markdown",
   "id": "7c85c203",
   "metadata": {},
   "source": [
    "# phantom change"
   ]
  },
  {
   "cell_type": "markdown",
   "id": "f85b63f4",
   "metadata": {},
   "source": [
    "## 1. preparation"
   ]
  },
  {
   "cell_type": "code",
   "execution_count": 1,
   "id": "5507b67a",
   "metadata": {},
   "outputs": [],
   "source": [
    "import h5py\n",
    "import io\n",
    "import glob\n",
    "import os\n",
    "import pandas as pd\n",
    "import numpy as np\n",
    "from PIL import Image\n",
    "import copy\n",
    "import cv2"
   ]
  },
  {
   "cell_type": "code",
   "execution_count": 2,
   "id": "139ce43a",
   "metadata": {},
   "outputs": [],
   "source": [
    "# input file path\n",
    "h5_path = \"./phantom.h5\""
   ]
  },
  {
   "cell_type": "markdown",
   "id": "dd8c6d91",
   "metadata": {},
   "source": [
    "## 2. data check"
   ]
  },
  {
   "cell_type": "code",
   "execution_count": 3,
   "id": "d068375e",
   "metadata": {
    "scrolled": true
   },
   "outputs": [
    {
     "name": "stdout",
     "output_type": "stream",
     "text": [
      "Lists of data names :  <KeysViewHDF5 ['Dimension', 'FOV', 'Origin', 'Spacing', 'pd', 't1', 't2', 'u', 'v', 'w']>\n"
     ]
    }
   ],
   "source": [
    "with h5py.File(h5_path, \"r\") as f:\n",
    "    # check directory structure\n",
    "    print(\"Lists of data names : \", f.keys())\n",
    "    \n",
    "    # copy velocity data\n",
    "    u = f[\"u\"]     # x velocity\n",
    "    v = f[\"v\"]     # y velocity\n",
    "    w = f[\"w\"]     # z velocity\n",
    "    "
   ]
  },
  {
   "cell_type": "markdown",
   "id": "20c562ff",
   "metadata": {},
   "source": [
    "## 3.data change (20221031_0123)"
   ]
  },
  {
   "cell_type": "code",
   "execution_count": 51,
   "id": "d3e4fe7d",
   "metadata": {},
   "outputs": [
    {
     "name": "stdout",
     "output_type": "stream",
     "text": [
      "Lists of data names :  <KeysViewHDF5 ['Dimension', 'FOV', 'Origin', 'Spacing', 'pd', 't1', 't2', 'u', 'v', 'w']>\n"
     ]
    }
   ],
   "source": [
    "with h5py.File(h5_path, \"a\") as f:\n",
    "    # check directory structure\n",
    "    print(\"Lists of data names : \", f.keys())\n",
    "    \n",
    "    # copy velocity data\n",
    "    u = f[\"u\"]     # x velocity\n",
    "    v = f[\"v\"]     # y velocity\n",
    "    w = f[\"w\"]     # z velocity\n",
    "    \n",
    "    # change x_velocity value\n",
    "    u = np.random.rand()\n",
    "    u = cv2.blur(u, (10, 10))\n",
    "    \n",
    "    # change y_velocity value\n",
    "    for i in range(129):\n",
    "        for j in range(129):\n",
    "            v[i,j] = i/300 + j/300\n",
    "    "
   ]
  },
  {
   "cell_type": "markdown",
   "id": "31fefb54",
   "metadata": {},
   "source": [
    "## 4.data change (20221031_)"
   ]
  },
  {
   "cell_type": "code",
   "execution_count": 5,
   "id": "95cfdf3b",
   "metadata": {},
   "outputs": [
    {
     "name": "stdout",
     "output_type": "stream",
     "text": [
      "Lists of data names :  <KeysViewHDF5 ['Dimension', 'FOV', 'Origin', 'Spacing', 'pd', 't1', 't2', 'u', 'v', 'w']>\n"
     ]
    }
   ],
   "source": [
    "with h5py.File(h5_path, \"a\") as f:\n",
    "    # check directory structure\n",
    "    print(\"Lists of data names : \", f.keys())\n",
    "    \n",
    "    # copy velocity data\n",
    "    u = f[\"u\"]     # x velocity\n",
    "    v = f[\"v\"]     # y velocity\n",
    "    w = f[\"w\"]     # z velocity\n",
    "    \n",
    "    # change x_velocity value\n",
    "    for i in range(129):\n",
    "        for j in range(129):\n",
    "            u[i, j] = i/300 + j/300\n",
    "    \n",
    "    # change y_velocity value\n",
    "    for i in range(129):\n",
    "        for j in range(129):\n",
    "            v[i, j] = i/300 + j/300\n",
    "            \n",
    "    # change z_velocity value\n",
    "    for i in range(129):\n",
    "        for j in range(129):\n",
    "            w[i, j] = i/300 + j/300\n"
   ]
  },
  {
   "cell_type": "code",
   "execution_count": null,
   "id": "c30dee3a",
   "metadata": {},
   "outputs": [],
   "source": []
  }
 ],
 "metadata": {
  "kernelspec": {
   "display_name": "Python 3 (ipykernel)",
   "language": "python",
   "name": "python3"
  },
  "language_info": {
   "codemirror_mode": {
    "name": "ipython",
    "version": 3
   },
   "file_extension": ".py",
   "mimetype": "text/x-python",
   "name": "python",
   "nbconvert_exporter": "python",
   "pygments_lexer": "ipython3",
   "version": "3.9.13"
  }
 },
 "nbformat": 4,
 "nbformat_minor": 5
}
