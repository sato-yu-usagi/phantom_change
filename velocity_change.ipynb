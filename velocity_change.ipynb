{
 "cells": [
  {
   "cell_type": "markdown",
   "id": "7c85c203",
   "metadata": {},
   "source": [
    "# phantom change"
   ]
  },
  {
   "cell_type": "markdown",
   "id": "f85b63f4",
   "metadata": {},
   "source": [
    "## 1. preparation"
   ]
  },
  {
   "cell_type": "code",
   "execution_count": 14,
   "id": "5507b67a",
   "metadata": {},
   "outputs": [],
   "source": [
    "import h5py\n",
    "import io\n",
    "import glob\n",
    "import os\n",
    "import pandas as pd\n",
    "import numpy as np\n",
    "from PIL import Image\n",
    "import copy\n",
    "import cv2\n",
    "import math"
   ]
  },
  {
   "cell_type": "code",
   "execution_count": 9,
   "id": "139ce43a",
   "metadata": {},
   "outputs": [],
   "source": [
    "# input file path\n",
    "h5_path = \"./phantom.h5\"\n",
    "h5_path_origin = \"./phantom_origin.h5\""
   ]
  },
  {
   "cell_type": "markdown",
   "id": "dd8c6d91",
   "metadata": {},
   "source": [
    "## 2. data check"
   ]
  },
  {
   "cell_type": "code",
   "execution_count": 10,
   "id": "d068375e",
   "metadata": {
    "scrolled": true
   },
   "outputs": [
    {
     "name": "stdout",
     "output_type": "stream",
     "text": [
      "Lists of data names :  <KeysViewHDF5 ['Dimension', 'FOV', 'Origin', 'Spacing', 'pd', 't1', 't2', 'u', 'v', 'w']>\n"
     ]
    }
   ],
   "source": [
    "with h5py.File(h5_path, \"r\") as f:\n",
    "    # check directory structure\n",
    "    print(\"Lists of data names : \", f.keys())\n",
    "    \n",
    "    # copy velocity data\n",
    "    u = f[\"u\"]     # x velocity\n",
    "    v = f[\"v\"]     # y velocity\n",
    "    w = f[\"w\"]     # z velocity\n",
    "    "
   ]
  },
  {
   "cell_type": "markdown",
   "id": "20c562ff",
   "metadata": {},
   "source": [
    "## 3.data change (20221031_0123)"
   ]
  },
  {
   "cell_type": "code",
   "execution_count": 11,
   "id": "d3e4fe7d",
   "metadata": {},
   "outputs": [
    {
     "name": "stdout",
     "output_type": "stream",
     "text": [
      "Lists of data names :  <KeysViewHDF5 ['Dimension', 'FOV', 'Origin', 'Spacing', 'pd', 't1', 't2', 'u', 'v', 'w']>\n"
     ]
    }
   ],
   "source": [
    "with h5py.File(h5_path, \"a\") as f:\n",
    "    # check directory structure\n",
    "    print(\"Lists of data names : \", f.keys())\n",
    "    \n",
    "    # copy velocity data\n",
    "    u = f[\"u\"]     # x velocity\n",
    "    v = f[\"v\"]     # y velocity\n",
    "    w = f[\"w\"]     # z velocity\n",
    "    \n",
    "    # change x_velocity value\n",
    "    u = np.random.rand()\n",
    "    u = cv2.blur(u, (10, 10))\n",
    "    \n",
    "    # change y_velocity value\n",
    "    for i in range(129):\n",
    "        for j in range(129):\n",
    "            v[i,j] = i/300 + j/300\n",
    "    "
   ]
  },
  {
   "cell_type": "markdown",
   "id": "1523e8a5",
   "metadata": {},
   "source": [
    "## 4.data change (20221031_0134)"
   ]
  },
  {
   "cell_type": "code",
   "execution_count": 12,
   "id": "4c025703",
   "metadata": {},
   "outputs": [
    {
     "name": "stdout",
     "output_type": "stream",
     "text": [
      "Lists of data names :  <KeysViewHDF5 ['Dimension', 'FOV', 'Origin', 'Spacing', 'pd', 't1', 't2', 'u', 'v', 'w']>\n"
     ]
    }
   ],
   "source": [
    "with h5py.File(h5_path, \"a\") as f:\n",
    "    # check directory structure\n",
    "    print(\"Lists of data names : \", f.keys())\n",
    "    \n",
    "    # copy velocity data\n",
    "    u = f[\"u\"]     # x velocity\n",
    "    v = f[\"v\"]     # y velocity\n",
    "    w = f[\"w\"]     # z velocity\n",
    "    \n",
    "    # change x_velocity value\n",
    "    for i in range(129):\n",
    "        for j in range(129):\n",
    "            u[i, j] = i/300 + j/300\n",
    "    \n",
    "    # change y_velocity value\n",
    "    for i in range(129):\n",
    "        for j in range(129):\n",
    "            v[i, j] = i/300 + j/300\n",
    "            \n",
    "    # change z_velocity value\n",
    "    for i in range(129):\n",
    "        for j in range(129):\n",
    "            w[i, j] = i/300 + j/300\n"
   ]
  },
  {
   "cell_type": "markdown",
   "id": "6839c69b",
   "metadata": {},
   "source": [
    "## 4.data change (20221031_0134)"
   ]
  },
  {
   "cell_type": "code",
   "execution_count": 13,
   "id": "0826ae15",
   "metadata": {},
   "outputs": [
    {
     "name": "stdout",
     "output_type": "stream",
     "text": [
      "Lists of data names :  <KeysViewHDF5 ['Dimension', 'FOV', 'Origin', 'Spacing', 'pd', 't1', 't2', 'u', 'v', 'w']>\n",
      "Lists of orig_data names :  <KeysViewHDF5 ['Dimension', 'FOV', 'Origin', 'Spacing', 'pd', 't1', 't2']>\n"
     ]
    }
   ],
   "source": [
    "with h5py.File(h5_path, \"a\") as f:\n",
    "    with h5py.File(h5_path_origin, \"a\") as f_orig:\n",
    "        # check directory structure\n",
    "        print(\"Lists of data names : \", f.keys())\n",
    "        print(\"Lists of orig_data names : \", f_orig.keys())\n",
    "\n",
    "        # copy velocity data\n",
    "        u = f[\"u\"]              # x velocity\n",
    "        v = f[\"v\"]              # y velocity\n",
    "        w = f[\"w\"]              # z velocity\n",
    "        pd = f[\"pd\"]            # proton distribution\n",
    "        pd_orig = f_orig[\"pd\"]  # proton distribution (origin)\n",
    "\n",
    "        # change x_velocity value\n",
    "        for i in range(129):\n",
    "            for j in range(129):\n",
    "                u[i, j] = -(j-64)*(j-64)/4096 + 1\n",
    "\n",
    "        # change y_velocity value\n",
    "        for i in range(129):\n",
    "            for j in range(129):\n",
    "                v[i, j] = 0\n",
    "\n",
    "        # change z_velocity value\n",
    "        for i in range(129):\n",
    "            for j in range(129):\n",
    "                w[i, j] = 0.5\n",
    "        \n",
    "        # change proton distribution\n",
    "        #for i in range(128):\n",
    "        #    for j in range(128):\n",
    "        #        pd[i, j] = pd_orig[i, j]\n"
   ]
  },
  {
   "cell_type": "markdown",
   "id": "fc728ecf",
   "metadata": {},
   "source": [
    "## 5.data change (20221031_2127)"
   ]
  },
  {
   "cell_type": "code",
   "execution_count": 29,
   "id": "e6774776",
   "metadata": {},
   "outputs": [
    {
     "name": "stdout",
     "output_type": "stream",
     "text": [
      "Lists of data names :  <KeysViewHDF5 ['Dimension', 'FOV', 'Origin', 'Spacing', 'pd', 't1', 't2', 'u', 'v', 'w']>\n"
     ]
    }
   ],
   "source": [
    "with h5py.File(h5_path, \"a\") as f:\n",
    "    # check directory structure\n",
    "    print(\"Lists of data names : \", f.keys())\n",
    "\n",
    "    # copy velocity data\n",
    "    u = f[\"u\"]              # x velocity\n",
    "    v = f[\"v\"]              # y velocity\n",
    "    w = f[\"w\"]              # z velocity\n",
    "    pd = f[\"pd\"]            # proton distribution\n",
    "\n",
    "    # change x_velocity value\n",
    "    for i in range(129):\n",
    "        for j in range(129):\n",
    "            u[i, j] = -(j-64)*(j-64)/4096 + 1\n",
    "\n",
    "    # change y_velocity value\n",
    "    for i in range(129):\n",
    "        for j in range(129):\n",
    "            v[i, j] = 0\n",
    "\n",
    "    # change z_velocity value\n",
    "    for i in range(129):\n",
    "        for j in range(129):\n",
    "            w[i, j] = 0.5\n",
    "\n",
    "            \n",
    "    # change proton distribution\n",
    "    # preparation\n",
    "    nx = 128\n",
    "    ny = 128\n",
    "    nz = 1\n",
    "    pd_0 = np.zeros((128*16, 128*16))\n",
    "    pitch = 8.0\n",
    "    x = np.zeros(40)\n",
    "    y = np.zeros(40)\n",
    "    \n",
    "    # calculation\n",
    "    for i in range(3):\n",
    "        y[i] =  64*16+2e0*pitch*16*(i-1)\n",
    "        x[i] = 64*16-pitch*16*math.sqrt(3e0)*2e0\n",
    "    for i in range(3, 7, 1):\n",
    "        y[i] = 64*16+2*pitch*16*(i-4.5)\n",
    "        x[i] = 64*16-pitch*16*math.sqrt(3)*1\n",
    "    for i in range(7, 12, 1):\n",
    "        y[i] = 64*16+2*pitch*16*(i-9);\n",
    "        x[i] = 64*16-pitch*16*math.sqrt(3)*0;\n",
    "    for i in range(12, 16, 1):\n",
    "        y[i] = 64*16+2*pitch*16*(i-13.5)\n",
    "        x[i] = 64*16-pitch*16*math.sqrt(3)*(-1)\n",
    "    for i in range(16, 19, 1):\n",
    "        y[i] = 64*16 + 2e0*pitch*16*(i-17)\n",
    "        x[i] = 64*16 - pitch*16*math.sqrt(3e0)*(-2e0)\n",
    "    \n",
    "    r1 = pitch*16\n",
    "    r2 = r1 - 3e0*16\n",
    "    r1sq = r1*r1\n",
    "    r2sq = r2*r2\n",
    "    \n",
    "    for j in range(ny*16):\n",
    "        for i in range(nx*16):\n",
    "            if (i-1024)*(i-1024)+(j-1024)*(j-1024) < 50*16*50*16:\n",
    "                pd_0[j, i] = 100\n",
    "            else:\n",
    "                pd_0[j, i] = 50\n",
    "                \n",
    "    for j in range(ny*16):\n",
    "        for i in range(nx*16):\n",
    "            for k in range(19):\n",
    "                a = (j-x[k])*(j-x[k])+(i-y[k])*(i-y[k])\n",
    "                if a <= r1sq and r2sq<=a:\n",
    "                    pd_0[j, i] = 50\n",
    "                    \n",
    "    for j in range(ny):\n",
    "        for i in range(nx):\n",
    "            s0 = 0\n",
    "            for k in range(16):\n",
    "                for n in range(16):\n",
    "                    s0 += pd_0[16*j+k, 16*i+n]\n",
    "            pd[j, i] = s0 / 256;\n",
    "            \n",
    "\n",
    "            \n",
    "            "
   ]
  },
  {
   "cell_type": "markdown",
   "id": "4e889535",
   "metadata": {},
   "source": [
    "## 6.data change (20221101_0230)"
   ]
  },
  {
   "cell_type": "code",
   "execution_count": 32,
   "id": "3765f058",
   "metadata": {},
   "outputs": [
    {
     "name": "stdout",
     "output_type": "stream",
     "text": [
      "Lists of data names :  <KeysViewHDF5 ['Dimension', 'FOV', 'Origin', 'Spacing', 'pd', 't1', 't2', 'u', 'v', 'w']>\n"
     ]
    }
   ],
   "source": [
    "with h5py.File(h5_path, \"a\") as f:\n",
    "    # check directory structure\n",
    "    print(\"Lists of data names : \", f.keys())\n",
    "\n",
    "    # copy velocity data\n",
    "    u = f[\"u\"]              # x velocity\n",
    "    v = f[\"v\"]              # y velocity\n",
    "    pd = f[\"pd\"]            # proton distribution\n",
    "\n",
    "    # change x_velocity value\n",
    "    for i in range(129):\n",
    "        for j in range(129):\n",
    "            u[i, j] = 0\n",
    "\n",
    "    # change y_velocity value\n",
    "    for i in range(129):\n",
    "        for j in range(129):\n",
    "            v[i, j] = 0\n",
    "\n",
    "    # change proton distribution\n",
    "    # preparation\n",
    "    nx = 128\n",
    "    ny = 128\n",
    "    nz = 1\n",
    "    pd_0 = np.zeros((128*16, 128*16))\n",
    "    pitch = 8.0\n",
    "    x = np.zeros(40)\n",
    "    y = np.zeros(40)\n",
    "    \n",
    "    # calculation\n",
    "    for i in range(3):\n",
    "        y[i] =  64*16+2e0*pitch*16*(i-1)\n",
    "        x[i] = 64*16-pitch*16*math.sqrt(3e0)*2e0\n",
    "    for i in range(3, 7, 1):\n",
    "        y[i] = 64*16+2*pitch*16*(i-4.5)\n",
    "        x[i] = 64*16-pitch*16*math.sqrt(3)*1\n",
    "    for i in range(7, 12, 1):\n",
    "        y[i] = 64*16+2*pitch*16*(i-9);\n",
    "        x[i] = 64*16-pitch*16*math.sqrt(3)*0;\n",
    "    for i in range(12, 16, 1):\n",
    "        y[i] = 64*16+2*pitch*16*(i-13.5)\n",
    "        x[i] = 64*16-pitch*16*math.sqrt(3)*(-1)\n",
    "    for i in range(16, 19, 1):\n",
    "        y[i] = 64*16 + 2e0*pitch*16*(i-17)\n",
    "        x[i] = 64*16 - pitch*16*math.sqrt(3e0)*(-2e0)\n",
    "    \n",
    "    r1 = pitch*16\n",
    "    r2 = r1 - 3e0*16\n",
    "    r1sq = r1*r1\n",
    "    r2sq = r2*r2\n",
    "    \n",
    "    for j in range(ny*16):\n",
    "        for i in range(nx*16):\n",
    "            if (i-1024)*(i-1024)+(j-1024)*(j-1024) < 50*16*50*16:\n",
    "                pd_0[j, i] = 100\n",
    "            else:\n",
    "                pd_0[j, i] = 50\n",
    "                \n",
    "    for j in range(ny*16):\n",
    "        for i in range(nx*16):\n",
    "            for k in range(19):\n",
    "                a = (j-x[k])*(j-x[k])+(i-y[k])*(i-y[k])\n",
    "                if a <= r1sq and r2sq<=a:\n",
    "                    pd_0[j, i] = 50\n",
    "                    \n",
    "    for j in range(ny):\n",
    "        for i in range(nx):\n",
    "            s0 = 0\n",
    "            for k in range(16):\n",
    "                for n in range(16):\n",
    "                    s0 += pd_0[16*j+k, 16*i+n]\n",
    "            pd[j, i] = s0 / 256;\n",
    "            "
   ]
  },
  {
   "cell_type": "code",
   "execution_count": null,
   "id": "3ef3d072",
   "metadata": {},
   "outputs": [],
   "source": []
  }
 ],
 "metadata": {
  "kernelspec": {
   "display_name": "Python 3 (ipykernel)",
   "language": "python",
   "name": "python3"
  },
  "language_info": {
   "codemirror_mode": {
    "name": "ipython",
    "version": 3
   },
   "file_extension": ".py",
   "mimetype": "text/x-python",
   "name": "python",
   "nbconvert_exporter": "python",
   "pygments_lexer": "ipython3",
   "version": "3.9.13"
  }
 },
 "nbformat": 4,
 "nbformat_minor": 5
}
